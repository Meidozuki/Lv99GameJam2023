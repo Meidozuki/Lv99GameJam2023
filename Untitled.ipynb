{
 "cells": [
  {
   "cell_type": "code",
   "execution_count": 2,
   "id": "5e3ef1b2",
   "metadata": {},
   "outputs": [
    {
     "name": "stdout",
     "output_type": "stream",
     "text": [
      "pygame-ce 2.2.1 (SDL 2.26.4, Python 3.10.10)\n"
     ]
    }
   ],
   "source": [
    "import pygame"
   ]
  },
  {
   "cell_type": "code",
   "execution_count": 4,
   "id": "94e7ffc8",
   "metadata": {},
   "outputs": [
    {
     "name": "stdout",
     "output_type": "stream",
     "text": [
      "Help on built-in function set_mode in module pygame.display:\n",
      "\n",
      "set_mode(...)\n",
      "    set_mode(size=(0, 0), flags=0, depth=0, display=0, vsync=0) -> Surface\n",
      "    Initialize a window or screen for display\n",
      "\n"
     ]
    }
   ],
   "source": [
    "help(pygame.display.set_mode)"
   ]
  },
  {
   "cell_type": "code",
   "execution_count": 3,
   "id": "a1951324",
   "metadata": {},
   "outputs": [
    {
     "data": {
      "text/plain": [
       "<Surface(800x600x32)>"
      ]
     },
     "execution_count": 3,
     "metadata": {},
     "output_type": "execute_result"
    }
   ],
   "source": [
    "pygame.display.set_mode(size=(800,600))"
   ]
  },
  {
   "cell_type": "code",
   "execution_count": 4,
   "id": "729a9a9a",
   "metadata": {},
   "outputs": [],
   "source": [
    "pygame.init()\n",
    "pygame.display.update()"
   ]
  },
  {
   "cell_type": "code",
   "execution_count": 5,
   "id": "cb9bd6c3",
   "metadata": {},
   "outputs": [],
   "source": [
    "pygame.quit()"
   ]
  },
  {
   "cell_type": "code",
   "execution_count": null,
   "id": "50f0113d",
   "metadata": {},
   "outputs": [],
   "source": []
  }
 ],
 "metadata": {
  "kernelspec": {
   "display_name": "Python 3 (ipykernel)",
   "language": "python",
   "name": "python3"
  },
  "language_info": {
   "codemirror_mode": {
    "name": "ipython",
    "version": 3
   },
   "file_extension": ".py",
   "mimetype": "text/x-python",
   "name": "python",
   "nbconvert_exporter": "python",
   "pygments_lexer": "ipython3",
   "version": "3.10.10"
  }
 },
 "nbformat": 4,
 "nbformat_minor": 5
}
